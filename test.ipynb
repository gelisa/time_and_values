{
 "cells": [
  {
   "cell_type": "code",
   "execution_count": 1,
   "metadata": {},
   "outputs": [],
   "source": [
    "%load_ext autoreload\n",
    "%autoreload 2\n",
    "%matplotlib inline\n",
    "import os\n",
    "import pandas as pd\n",
    "import numpy as np\n",
    "from datetime import timedelta, datetime, date\n",
    "\n",
    "import matplotlib.pyplot as plt\n",
    "import seaborn as sns\n",
    "from IPython.display import display, HTML\n",
    "\n",
    "from values import Values\n",
    "from tasks import Tasks\n",
    "from time_sheet import TimeSheet\n",
    "from advice import Advice\n",
    "from locks import Locks"
   ]
  },
  {
   "cell_type": "code",
   "execution_count": 72,
   "metadata": {},
   "outputs": [],
   "source": [
    "v = Values()\n",
    "t = Tasks()\n",
    "ts = TimeSheet()"
   ]
  },
  {
   "cell_type": "code",
   "execution_count": 98,
   "metadata": {},
   "outputs": [
    {
     "data": {
      "text/html": [
       "<div>\n",
       "<style scoped>\n",
       "    .dataframe tbody tr th:only-of-type {\n",
       "        vertical-align: middle;\n",
       "    }\n",
       "\n",
       "    .dataframe tbody tr th {\n",
       "        vertical-align: top;\n",
       "    }\n",
       "\n",
       "    .dataframe thead th {\n",
       "        text-align: right;\n",
       "    }\n",
       "</style>\n",
       "<table border=\"1\" class=\"dataframe\">\n",
       "  <thead>\n",
       "    <tr style=\"text-align: right;\">\n",
       "      <th></th>\n",
       "      <th>value_id</th>\n",
       "      <th>task</th>\n",
       "      <th>entry</th>\n",
       "      <th>task_id</th>\n",
       "      <th>goal_min</th>\n",
       "      <th>goal_max</th>\n",
       "      <th>points</th>\n",
       "      <th>deficit</th>\n",
       "      <th>excess</th>\n",
       "      <th>opportunity</th>\n",
       "      <th>deficit_points</th>\n",
       "      <th>excess_points</th>\n",
       "      <th>opportunity_points</th>\n",
       "    </tr>\n",
       "  </thead>\n",
       "  <tbody>\n",
       "    <tr>\n",
       "      <th>15</th>\n",
       "      <td>5</td>\n",
       "      <td>find new inspiration</td>\n",
       "      <td>0.0</td>\n",
       "      <td>2</td>\n",
       "      <td>0.5</td>\n",
       "      <td>2.0</td>\n",
       "      <td>1.5</td>\n",
       "      <td>0.5</td>\n",
       "      <td>0.0</td>\n",
       "      <td>2.0</td>\n",
       "      <td>0.75</td>\n",
       "      <td>0.0</td>\n",
       "      <td>3.0</td>\n",
       "    </tr>\n",
       "  </tbody>\n",
       "</table>\n",
       "</div>"
      ],
      "text/plain": [
       "    value_id                  task  entry  task_id  goal_min  goal_max  \\\n",
       "15         5  find new inspiration    0.0        2       0.5       2.0   \n",
       "\n",
       "    points  deficit  excess  opportunity  deficit_points  excess_points  \\\n",
       "15     1.5      0.5     0.0          2.0            0.75            0.0   \n",
       "\n",
       "    opportunity_points  \n",
       "15                 3.0  "
      ]
     },
     "execution_count": 98,
     "metadata": {},
     "output_type": "execute_result"
    }
   ],
   "source": [
    "a = Advice(True)\n",
    "a.sample()"
   ]
  },
  {
   "cell_type": "code",
   "execution_count": 80,
   "metadata": {},
   "outputs": [
    {
     "name": "stdout",
     "output_type": "stream",
     "text": [
      "\n",
      "        Should you do Social. find new inspiration perhaps?\n",
      "        Deficit: 0.75 (0.5 hours),\n",
      "        Opportunity: 3.0 (2.0 hours)\n",
      "        next week\n",
      "\n",
      "        Should you do Health. stretch perhaps?\n",
      "        Deficit: 0.5 (0.5 hours),\n",
      "        Opportunity: 1.0 (1.0 hours)\n",
      "        tomorrow\n",
      "\n",
      "        Should you do Social. old perhaps?\n",
      "        Deficit: 0.0 (0.0 hours),\n",
      "        Opportunity: 6.0 (6.0 hours)\n",
      "        sure\n",
      "Okay. Let's do it!\n"
     ]
    }
   ],
   "source": [
    "a.propose_next()"
   ]
  },
  {
   "cell_type": "code",
   "execution_count": 87,
   "metadata": {},
   "outputs": [
    {
     "data": {
      "text/html": [
       "<div>\n",
       "<style scoped>\n",
       "    .dataframe tbody tr th:only-of-type {\n",
       "        vertical-align: middle;\n",
       "    }\n",
       "\n",
       "    .dataframe tbody tr th {\n",
       "        vertical-align: top;\n",
       "    }\n",
       "\n",
       "    .dataframe thead th {\n",
       "        text-align: right;\n",
       "    }\n",
       "</style>\n",
       "<table border=\"1\" class=\"dataframe\">\n",
       "  <thead>\n",
       "    <tr style=\"text-align: right;\">\n",
       "      <th></th>\n",
       "      <th>deficit</th>\n",
       "      <th>excess</th>\n",
       "      <th>opportunity</th>\n",
       "      <th>deficit_points</th>\n",
       "      <th>excess_points</th>\n",
       "      <th>opportunity_points</th>\n",
       "    </tr>\n",
       "    <tr>\n",
       "      <th>value_id</th>\n",
       "      <th></th>\n",
       "      <th></th>\n",
       "      <th></th>\n",
       "      <th></th>\n",
       "      <th></th>\n",
       "      <th></th>\n",
       "    </tr>\n",
       "  </thead>\n",
       "  <tbody>\n",
       "    <tr>\n",
       "      <th>1</th>\n",
       "      <td>3.5</td>\n",
       "      <td>0.0</td>\n",
       "      <td>13.9</td>\n",
       "      <td>3.00</td>\n",
       "      <td>0.00</td>\n",
       "      <td>12.65</td>\n",
       "    </tr>\n",
       "    <tr>\n",
       "      <th>2</th>\n",
       "      <td>0.5</td>\n",
       "      <td>0.0</td>\n",
       "      <td>1.5</td>\n",
       "      <td>1.00</td>\n",
       "      <td>0.00</td>\n",
       "      <td>3.00</td>\n",
       "    </tr>\n",
       "    <tr>\n",
       "      <th>3</th>\n",
       "      <td>0.5</td>\n",
       "      <td>6.0</td>\n",
       "      <td>5.5</td>\n",
       "      <td>0.75</td>\n",
       "      <td>4.50</td>\n",
       "      <td>7.75</td>\n",
       "    </tr>\n",
       "    <tr>\n",
       "      <th>4</th>\n",
       "      <td>7.0</td>\n",
       "      <td>0.0</td>\n",
       "      <td>16.0</td>\n",
       "      <td>8.00</td>\n",
       "      <td>0.00</td>\n",
       "      <td>18.50</td>\n",
       "    </tr>\n",
       "    <tr>\n",
       "      <th>5</th>\n",
       "      <td>0.5</td>\n",
       "      <td>0.0</td>\n",
       "      <td>8.0</td>\n",
       "      <td>0.75</td>\n",
       "      <td>0.00</td>\n",
       "      <td>9.00</td>\n",
       "    </tr>\n",
       "    <tr>\n",
       "      <th>6</th>\n",
       "      <td>0.0</td>\n",
       "      <td>5.0</td>\n",
       "      <td>2.0</td>\n",
       "      <td>0.00</td>\n",
       "      <td>3.75</td>\n",
       "      <td>2.00</td>\n",
       "    </tr>\n",
       "  </tbody>\n",
       "</table>\n",
       "</div>"
      ],
      "text/plain": [
       "          deficit  excess  opportunity  deficit_points  excess_points  \\\n",
       "value_id                                                                \n",
       "1             3.5     0.0         13.9            3.00           0.00   \n",
       "2             0.5     0.0          1.5            1.00           0.00   \n",
       "3             0.5     6.0          5.5            0.75           4.50   \n",
       "4             7.0     0.0         16.0            8.00           0.00   \n",
       "5             0.5     0.0          8.0            0.75           0.00   \n",
       "6             0.0     5.0          2.0            0.00           3.75   \n",
       "\n",
       "          opportunity_points  \n",
       "value_id                      \n",
       "1                      12.65  \n",
       "2                       3.00  \n",
       "3                       7.75  \n",
       "4                      18.50  \n",
       "5                       9.00  \n",
       "6                       2.00  "
      ]
     },
     "execution_count": 87,
     "metadata": {},
     "output_type": "execute_result"
    }
   ],
   "source": [
    "a.groupby('value_id')[\n",
    "    ['deficit', 'excess', 'opportunity','deficit_points', 'excess_points', 'opportunity_points']\n",
    "].sum()"
   ]
  },
  {
   "cell_type": "code",
   "execution_count": 93,
   "metadata": {},
   "outputs": [],
   "source": [
    "def bar_plot_actual_vs_goals(actual,ax=None):\n",
    "    x = actual.value_id.apply(str) + '.' + actual.task\n",
    "    if not ax:\n",
    "        f, ax = plt.subplots(figsize=(14, 8))\n",
    "    ax.bar(x,\n",
    "            (actual.goal_max - actual.goal_min), color='C0',\n",
    "          label='planned: {} - {} h/w'.format(actual.goal_min.sum(), actual.goal_max.sum()))\n",
    "    ax.step(x,\n",
    "             actual.entry - actual.goal_min,\n",
    "             c='k', where='mid',\n",
    "             label='actual: total {} h/w'.format(round(actual.entry.sum(), 2)))\n",
    "    no_work = actual[(actual.entry == 0) & (actual.goal_min > 0)]\n",
    "    nw_x = no_work.value_id.apply(str) + '.' + no_work.task\n",
    "    ax.scatter(nw_x,\n",
    "               [-0.2]*nw_x.shape[0], \n",
    "                   c='r', \n",
    "                   s=50, \n",
    "                   label='actual=0')\n",
    "\n",
    "    ax.tick_params(axis='x', rotation=90);\n",
    "    ax.set_ylabel('difference with mean of planned')\n",
    "    ax.grid(axis='y')\n",
    "    ax.legend()"
   ]
  },
  {
   "cell_type": "code",
   "execution_count": 99,
   "metadata": {},
   "outputs": [
    {
     "data": {
      "image/png": "[encoded data removed]",
      "text/plain": [
       "<Figure size 1008x576 with 1 Axes>"
      ]
     },
     "metadata": {
      "needs_background": "light"
     },
     "output_type": "display_data"
    }
   ],
   "source": [
    "bar_plot_actual_vs_goals(a.table,ax=None)"
   ]
  },
  {
   "cell_type": "code",
   "execution_count": null,
   "metadata": {},
   "outputs": [],
   "source": []
  },
  {
   "cell_type": "code",
   "execution_count": null,
   "metadata": {},
   "outputs": [],
   "source": []
  }
 ],
 "metadata": {
  "kernelspec": {
   "display_name": "Python 3",
   "language": "python",
   "name": "python3"
  },
  "language_info": {
   "codemirror_mode": {
    "name": "ipython",
    "version": 3
   },
   "file_extension": ".py",
   "mimetype": "text/x-python",
   "name": "python",
   "nbconvert_exporter": "python",
   "pygments_lexer": "ipython3",
   "version": "3.7.2"
  }
 },
 "nbformat": 4,
 "nbformat_minor": 2
}
